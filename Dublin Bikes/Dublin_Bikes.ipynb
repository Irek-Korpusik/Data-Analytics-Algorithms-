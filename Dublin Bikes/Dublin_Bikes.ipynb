{
 "cells": [
  {
   "cell_type": "markdown",
   "id": "silent-childhood",
   "metadata": {},
   "source": [
    "## Download data from:\n",
    "https://data.smartdublin.ie/dataset/dublinbikes-api/resource/aab12e7d-547f-463a-86b1-e22002884587\n",
    "https://data.smartdublin.ie/dataset/dublinbikes-api/resource/8ddaeac6-4caf-4289-9835-cf588d0b69e5\n",
    "https://data.smartdublin.ie/dataset/dublinbikes-api/resource/99a35442-6878-4c2d-8dff-ec43e91d21d7\n",
    "https://data.smartdublin.ie/dataset/dublinbikes-api/resource/5328239f-bcc6-483d-9c17-87166efc3a1a\n",
    "\n",
    "### keep them in a same folder as .ipynb file\n"
   ]
  },
  {
   "cell_type": "markdown",
   "id": "upset-aruba",
   "metadata": {},
   "source": [
    "## Abstract\n",
    "\n",
    "For Machine Learning project I have used: Decision Tree, Linear Regression, XGBoost and Logistic Regression. My dataset called Dublin Bikes. The best prediction effect I got with Decision Tree and Linear Regression which was 0.99. Linear Regression is even higher than in Decision Tree.  \n"
   ]
  },
  {
   "cell_type": "markdown",
   "id": "black-lightweight",
   "metadata": {},
   "source": [
    "## Outline\n",
    "In a assignment I took the following steps to perform analysis:\n",
    "- Research Question\n",
    "- Introduction to ML algorithms\n",
    "- Loading datasets\n",
    "- Displaying name of the columns before and after encoding, creating plots\n",
    "- Split data on training and testing\n",
    "- Implementing algorithms"
   ]
  },
  {
   "cell_type": "markdown",
   "id": "multiple-medium",
   "metadata": {},
   "source": [
    "## Research Question\n",
    "- How many bikes were available in different months in 2020?"
   ]
  },
  {
   "cell_type": "markdown",
   "id": "resistant-brother",
   "metadata": {},
   "source": [
    "## Background\n",
    "\n",
    "Machine Learning is the study of computer algorithms that improve automatically through experience and by the use of data. \n",
    "ML Algorithms are used for various purposes like data mining, image processing, predictive analytics, etc. to name a few.  The main advantage of using machine learning is that, once an algorithm learns what to do with data, it can do its work automatically. Types of machine learning Algorithms\n",
    "\n",
    "There some variations of how to define the types of Machine Learning Algorithms but commonly they can be divided into categories according to their purpose and the main categories are the following:\n",
    "\n",
    "    Supervised learning\n",
    "    Unsupervised Learning\n",
    "    Semi-supervised Learning\n",
    "    Reinforcement Learning\n"
   ]
  },
  {
   "cell_type": "markdown",
   "id": "chicken-literacy",
   "metadata": {},
   "source": [
    "## Introduction\n",
    "\n",
    "For Data Analytics and Algorithms (CW_KCDAT_M) Y5 module I was required completion of a research/software project based on data analytics/machine learning. This involved finding a large dataset and performing research analysis on it in the python environment from within Jupyter Notebook. I selected two sets of data sets and sent them for approval. One dataset is a collection of used cars for sale collected from one of the largest sales websites Craigslist https://www.kaggle.com/austinreese/craigslist-carstrucks-data . The second dataset is Dublin Bikes, which is a bike hire scheme operating from docks and bike stations in Dublin city https://data.smartdublin.ie/dataset/dublinbikes-api . After a preliminary review of both sets I decided to use Dublin Bikes for the analysis. I found it quite interesting and comprehensive.  I have selected the last four datasets from Dublin Bikes, which cover a period of 1 year (01.01.2020 to 01.01.2021). \n"
   ]
  },
  {
   "cell_type": "code",
   "execution_count": null,
   "id": "caring-canon",
   "metadata": {},
   "outputs": [],
   "source": [
    "#  I've installed all necessary packages"
   ]
  },
  {
   "cell_type": "code",
   "execution_count": null,
   "id": "maritime-interim",
   "metadata": {},
   "outputs": [],
   "source": [
    "# pip install xgboost\n",
    "# pip install graphviz"
   ]
  },
  {
   "cell_type": "code",
   "execution_count": null,
   "id": "presidential-screening",
   "metadata": {},
   "outputs": [],
   "source": [
    "#imports all necessary libraries "
   ]
  },
  {
   "cell_type": "code",
   "execution_count": null,
   "id": "compliant-dakota",
   "metadata": {},
   "outputs": [],
   "source": [
    "import pandas as pd\n",
    "import numpy as np\n",
    "import seaborn as sns\n",
    "import matplotlib\n",
    "import matplotlib.pyplot as plt\n",
    "%matplotlib inline\n",
    "import xgboost as xgb\n",
    "from matplotlib import pyplot as plt"
   ]
  },
  {
   "cell_type": "code",
   "execution_count": null,
   "id": "entitled-arrow",
   "metadata": {},
   "outputs": [],
   "source": [
    "# Read data from csv file"
   ]
  },
  {
   "cell_type": "code",
   "execution_count": null,
   "id": "split-dragon",
   "metadata": {},
   "outputs": [],
   "source": [
    "df1 = pd.read_csv('dublinbikes_20200101_20200401.csv')\n",
    "df2 = pd.read_csv('dublinbikes_20200401_20200701.csv')\n",
    "df3 = pd.read_csv('dublinbikes_20200701_20201001.csv')\n",
    "df4 = pd.read_csv('dublinbikes_20201001_20210101.csv')"
   ]
  },
  {
   "cell_type": "code",
   "execution_count": null,
   "id": "heard-fence",
   "metadata": {},
   "outputs": [],
   "source": [
    "# Concanate four dataset in one and display "
   ]
  },
  {
   "cell_type": "code",
   "execution_count": null,
   "id": "downtown-ceiling",
   "metadata": {
    "scrolled": true
   },
   "outputs": [],
   "source": [
    "bike_list = [df1, df2, df3, df4]\n",
    "bike = pd.concat(bike_list, ignore_index=True)\n",
    "bike"
   ]
  },
  {
   "cell_type": "code",
   "execution_count": null,
   "id": "atmospheric-amount",
   "metadata": {},
   "outputs": [],
   "source": [
    "# Print a concise summary of a DataFrame"
   ]
  },
  {
   "cell_type": "code",
   "execution_count": null,
   "id": "constant-bridge",
   "metadata": {},
   "outputs": [],
   "source": [
    "bike.info()"
   ]
  },
  {
   "cell_type": "code",
   "execution_count": null,
   "id": "generous-shakespeare",
   "metadata": {},
   "outputs": [],
   "source": [
    "# Display number of rows and number of columns in the DataFrame"
   ]
  },
  {
   "cell_type": "code",
   "execution_count": null,
   "id": "brown-artist",
   "metadata": {},
   "outputs": [],
   "source": [
    "bike.shape"
   ]
  },
  {
   "cell_type": "code",
   "execution_count": null,
   "id": "unlike-violation",
   "metadata": {},
   "outputs": [],
   "source": [
    "# Count and display if any \"NaN\" values in dataset"
   ]
  },
  {
   "cell_type": "code",
   "execution_count": null,
   "id": "productive-bulgarian",
   "metadata": {},
   "outputs": [],
   "source": [
    "bike.isnull().sum()"
   ]
  },
  {
   "cell_type": "code",
   "execution_count": null,
   "id": "fallen-india",
   "metadata": {},
   "outputs": [],
   "source": [
    "# Display the first n rows"
   ]
  },
  {
   "cell_type": "code",
   "execution_count": null,
   "id": "african-accused",
   "metadata": {},
   "outputs": [],
   "source": [
    "bike.head()"
   ]
  },
  {
   "cell_type": "code",
   "execution_count": null,
   "id": "boring-uncertainty",
   "metadata": {},
   "outputs": [],
   "source": [
    "# Load sklearn.model_selection"
   ]
  },
  {
   "cell_type": "code",
   "execution_count": null,
   "id": "corporate-basket",
   "metadata": {},
   "outputs": [],
   "source": [
    "from sklearn.model_selection import train_test_split"
   ]
  },
  {
   "cell_type": "code",
   "execution_count": null,
   "id": "wrong-taxation",
   "metadata": {},
   "outputs": [],
   "source": [
    "# Split data into two subsets: training data and testing data"
   ]
  },
  {
   "cell_type": "code",
   "execution_count": null,
   "id": "interior-usage",
   "metadata": {},
   "outputs": [],
   "source": [
    "xtrain,xtest,ytrain,ytest=train_test_split(bike.loc[:,'STATION ID':'LATITUDE'],bike.loc[:,'LONGITUDE'],test_size=0.30,random_state=1)"
   ]
  },
  {
   "cell_type": "code",
   "execution_count": null,
   "id": "immediate-accuracy",
   "metadata": {},
   "outputs": [],
   "source": [
    "print('Xtrain shape',xtrain.shape)\n",
    "print('Xtest shape',xtest.shape)\n",
    "print('Ytrain shape',ytrain.shape)\n",
    "print('Ytest shape',ytest.shape)"
   ]
  },
  {
   "cell_type": "code",
   "execution_count": null,
   "id": "alien-organization",
   "metadata": {},
   "outputs": [],
   "source": [
    "# Create subplots in a single feature and display"
   ]
  },
  {
   "cell_type": "code",
   "execution_count": null,
   "id": "spectacular-match",
   "metadata": {
    "scrolled": false
   },
   "outputs": [],
   "source": [
    "sns.relplot(data=bike, x='BIKE STANDS', y='AVAILABLE BIKE STANDS')"
   ]
  },
  {
   "cell_type": "code",
   "execution_count": null,
   "id": "tamil-knock",
   "metadata": {},
   "outputs": [],
   "source": [
    "# Create subplots in a single feature and display as a line"
   ]
  },
  {
   "cell_type": "code",
   "execution_count": null,
   "id": "broken-journalist",
   "metadata": {},
   "outputs": [],
   "source": [
    "sns.relplot(data=bike, x='BIKE STANDS', y='AVAILABLE BIKE STANDS', kind='line')\n",
    "plt.show()"
   ]
  },
  {
   "cell_type": "code",
   "execution_count": null,
   "id": "developed-factory",
   "metadata": {},
   "outputs": [],
   "source": [
    "sns.relplot(data=bike, x='AVAILABLE BIKES', y='TIME', kind='line', fig.set_size_inches(11.7, 8.27))\n",
    "plt.show()"
   ]
  },
  {
   "cell_type": "code",
   "execution_count": null,
   "id": "concerned-gauge",
   "metadata": {},
   "outputs": [],
   "source": [
    "# Create and display histogram"
   ]
  },
  {
   "cell_type": "code",
   "execution_count": null,
   "id": "split-positive",
   "metadata": {},
   "outputs": [],
   "source": [
    "bike['AVAILABLE BIKE STANDS'].plot.hist()"
   ]
  },
  {
   "cell_type": "code",
   "execution_count": null,
   "id": "cubic-chaos",
   "metadata": {},
   "outputs": [],
   "source": [
    "# bike.boxplot('NAME','LAST UPDATED',rot = 30,figsize=(5,6))"
   ]
  },
  {
   "cell_type": "code",
   "execution_count": null,
   "id": "operational-corruption",
   "metadata": {},
   "outputs": [],
   "source": [
    "# Return basic information about each column in dataset "
   ]
  },
  {
   "cell_type": "code",
   "execution_count": null,
   "id": "vocational-donor",
   "metadata": {},
   "outputs": [],
   "source": [
    "bike.describe()"
   ]
  },
  {
   "cell_type": "code",
   "execution_count": null,
   "id": "private-start",
   "metadata": {},
   "outputs": [],
   "source": [
    "# Display a view of the dataset"
   ]
  },
  {
   "cell_type": "code",
   "execution_count": null,
   "id": "heard-diversity",
   "metadata": {},
   "outputs": [],
   "source": [
    "bike.values"
   ]
  },
  {
   "cell_type": "code",
   "execution_count": null,
   "id": "alternative-there",
   "metadata": {},
   "outputs": [],
   "source": [
    "# Select data by the label of the rows and columns"
   ]
  },
  {
   "cell_type": "code",
   "execution_count": null,
   "id": "interior-beginning",
   "metadata": {},
   "outputs": [],
   "source": [
    "bike.index"
   ]
  },
  {
   "cell_type": "code",
   "execution_count": null,
   "id": "reported-testament",
   "metadata": {},
   "outputs": [],
   "source": [
    "# Available \"bikes\" grouped by the \"status\""
   ]
  },
  {
   "cell_type": "code",
   "execution_count": null,
   "id": "norwegian-mother",
   "metadata": {},
   "outputs": [],
   "source": [
    "bike.boxplot('AVAILABLE BIKES','STATUS',rot = 30,figsize=(10,12))"
   ]
  },
  {
   "cell_type": "code",
   "execution_count": null,
   "id": "athletic-canadian",
   "metadata": {},
   "outputs": [],
   "source": [
    "# Available \"longtitude\" grouped by the \"status\""
   ]
  },
  {
   "cell_type": "code",
   "execution_count": null,
   "id": "massive-landscape",
   "metadata": {},
   "outputs": [],
   "source": [
    "bike.boxplot('LONGITUDE','STATUS',rot = 30,figsize=(7,9))"
   ]
  },
  {
   "cell_type": "markdown",
   "id": "liked-twelve",
   "metadata": {},
   "source": [
    "# Decision Tree"
   ]
  },
  {
   "cell_type": "code",
   "execution_count": null,
   "id": "sealed-vancouver",
   "metadata": {},
   "outputs": [],
   "source": [
    "# Make a copy of dataset and convert categorical variable into \"dummy\" variable, encode them by \"status\" and display"
   ]
  },
  {
   "cell_type": "code",
   "execution_count": null,
   "id": "advanced-storm",
   "metadata": {},
   "outputs": [],
   "source": [
    "cat_bike_onehot = bike.copy() \n",
    "cat_bike_onehot = pd.get_dummies(cat_bike_onehot, columns=['STATUS'], prefix = ['STATUS']) \n",
    "print(cat_bike_onehot.head())"
   ]
  },
  {
   "cell_type": "code",
   "execution_count": null,
   "id": "medieval-nepal",
   "metadata": {},
   "outputs": [],
   "source": [
    "# Convert argument to datetime"
   ]
  },
  {
   "cell_type": "code",
   "execution_count": null,
   "id": "figured-approach",
   "metadata": {},
   "outputs": [],
   "source": [
    "cat_bike_onehot.TIME=pd.to_datetime(cat_bike_onehot.TIME)"
   ]
  },
  {
   "cell_type": "code",
   "execution_count": null,
   "id": "billion-insight",
   "metadata": {},
   "outputs": [],
   "source": [
    "# Display summary of a DataFrame"
   ]
  },
  {
   "cell_type": "code",
   "execution_count": null,
   "id": "neutral-shoot",
   "metadata": {},
   "outputs": [],
   "source": [
    "cat_bike_onehot.info()"
   ]
  },
  {
   "cell_type": "code",
   "execution_count": null,
   "id": "southern-toronto",
   "metadata": {},
   "outputs": [],
   "source": [
    "# Convert \"time\" column to time, year, month, day etc."
   ]
  },
  {
   "cell_type": "code",
   "execution_count": null,
   "id": "arabic-equation",
   "metadata": {},
   "outputs": [],
   "source": [
    "cat_bike_onehot['TIME_year'] = cat_bike_onehot['TIME'].dt.year\n",
    "cat_bike_onehot['TIME_month'] = cat_bike_onehot['TIME'].dt.month\n",
    "cat_bike_onehot['TIME_week'] = cat_bike_onehot['TIME'].dt.isocalendar().week\n",
    "cat_bike_onehot['TIME_day'] = cat_bike_onehot['TIME'].dt.day\n",
    "cat_bike_onehot['TIME_hour'] = cat_bike_onehot['TIME'].dt.hour\n",
    "cat_bike_onehot['TIME_minute'] = cat_bike_onehot['TIME'].dt.minute\n",
    "cat_bike_onehot['TIME_dayofweek'] = cat_bike_onehot['TIME'].dt.dayofweek"
   ]
  },
  {
   "cell_type": "code",
   "execution_count": null,
   "id": "ecological-dialogue",
   "metadata": {},
   "outputs": [],
   "source": [
    "# Create new name for DataFrame"
   ]
  },
  {
   "cell_type": "code",
   "execution_count": null,
   "id": "technical-detail",
   "metadata": {},
   "outputs": [],
   "source": [
    "new_bike= pd.DataFrame(cat_bike_onehot[['STATION ID','TIME_year','TIME_month','TIME_week','TIME_day','TIME_hour','TIME_minute','TIME_dayofweek','BIKE STANDS','AVAILABLE BIKE STANDS','AVAILABLE BIKES','STATUS_Close','STATUS_Open']])"
   ]
  },
  {
   "cell_type": "code",
   "execution_count": null,
   "id": "characteristic-provincial",
   "metadata": {},
   "outputs": [],
   "source": [
    "# Remove column \"available bikes\" to give new input set, it creates new dataset without that column. We are giving \"X\" to represent that dataset"
   ]
  },
  {
   "cell_type": "code",
   "execution_count": null,
   "id": "southwest-structure",
   "metadata": {},
   "outputs": [],
   "source": [
    "X = new_bike.drop(columns=['AVAILABLE BIKES'])\n",
    "X"
   ]
  },
  {
   "cell_type": "code",
   "execution_count": null,
   "id": "durable-hostel",
   "metadata": {},
   "outputs": [],
   "source": [
    "for col in new_bike:\n",
    "    if col == 'TIME_year' :\n",
    "        bike_year=(new_bike[new_bike[col]==2020]).copy()"
   ]
  },
  {
   "cell_type": "code",
   "execution_count": null,
   "id": "acquired-sarah",
   "metadata": {},
   "outputs": [],
   "source": [
    "bike_year = bike_year.groupby(bike_year.TIME_month).count().reset_index()"
   ]
  },
  {
   "cell_type": "code",
   "execution_count": null,
   "id": "advanced-trademark",
   "metadata": {},
   "outputs": [],
   "source": [
    "bike_year"
   ]
  },
  {
   "cell_type": "code",
   "execution_count": null,
   "id": "acceptable-lithuania",
   "metadata": {},
   "outputs": [],
   "source": [
    "# How many bikes were available in different months in 2020?"
   ]
  },
  {
   "cell_type": "code",
   "execution_count": null,
   "id": "fatty-spice",
   "metadata": {},
   "outputs": [],
   "source": [
    "bike_year['AVAILABLE BIKES'].plot(kind=\"bar\", title=\"test\", figsize=(12,14), color=['black', 'green', 'black', 'green', 'black', 'green'] )\n",
    "\n",
    "# Rotate the x-labels by 30 degrees, and keep the text aligned horizontally\n",
    "plt.xticks(rotation=30, horizontalalignment=\"center\")\n",
    "plt.title(\"How many bikes are available in different months in 2020\")\n",
    "plt.xlabel(\"Months\")\n",
    "plt.ylabel(\"Number of Available Bikes\")"
   ]
  },
  {
   "cell_type": "raw",
   "id": "instant-colleague",
   "metadata": {},
   "source": [
    "# Define y as new output set with \"available bike\" column"
   ]
  },
  {
   "cell_type": "code",
   "execution_count": null,
   "id": "constitutional-livestock",
   "metadata": {},
   "outputs": [],
   "source": [
    "y = new_bike['AVAILABLE BIKES']\n",
    "y"
   ]
  },
  {
   "cell_type": "markdown",
   "id": "strange-storage",
   "metadata": {},
   "source": [
    "### Separate the dependent and independent data variables into two data frames: 30% testing data and 70% training data."
   ]
  },
  {
   "cell_type": "code",
   "execution_count": null,
   "id": "corrected-driver",
   "metadata": {},
   "outputs": [],
   "source": [
    "# Load train_test_split (random train and test subsets)"
   ]
  },
  {
   "cell_type": "code",
   "execution_count": null,
   "id": "younger-london",
   "metadata": {},
   "outputs": [],
   "source": [
    "from sklearn.model_selection import train_test_split\n",
    "x_train,x_test,y_train,y_test=train_test_split(X,y,test_size=0.3,random_state=0)"
   ]
  },
  {
   "cell_type": "code",
   "execution_count": null,
   "id": "present-module",
   "metadata": {},
   "outputs": [],
   "source": [
    "#  Display info about Dataframe"
   ]
  },
  {
   "cell_type": "code",
   "execution_count": null,
   "id": "resident-consideration",
   "metadata": {},
   "outputs": [],
   "source": [
    "new_bike.info()"
   ]
  },
  {
   "cell_type": "markdown",
   "id": "settled-price",
   "metadata": {},
   "source": [
    "### Implement decision tree algorithm"
   ]
  },
  {
   "cell_type": "code",
   "execution_count": null,
   "id": "bigger-washington",
   "metadata": {},
   "outputs": [],
   "source": [
    "# Load  DecisionTreeClassifier "
   ]
  },
  {
   "cell_type": "code",
   "execution_count": null,
   "id": "sonic-albany",
   "metadata": {},
   "outputs": [],
   "source": [
    "from sklearn.tree import DecisionTreeClassifier"
   ]
  },
  {
   "cell_type": "markdown",
   "id": "widespread-sacramento",
   "metadata": {},
   "source": [
    "### Create new instance of the class and train that model to learn patterns of the data. It takes two datasets: input set and output set."
   ]
  },
  {
   "cell_type": "code",
   "execution_count": null,
   "id": "lonely-diamond",
   "metadata": {},
   "outputs": [],
   "source": [
    "# Create new object called model"
   ]
  },
  {
   "cell_type": "code",
   "execution_count": null,
   "id": "ambient-pocket",
   "metadata": {},
   "outputs": [],
   "source": [
    "model = DecisionTreeClassifier()\n",
    "model.fit(x_train,y_train)"
   ]
  },
  {
   "cell_type": "markdown",
   "id": "nuclear-exposure",
   "metadata": {},
   "source": [
    "### Return the labels of the data passed as argument based upon the learned or trained data obtained from the model"
   ]
  },
  {
   "cell_type": "code",
   "execution_count": null,
   "id": "rapid-continent",
   "metadata": {},
   "outputs": [],
   "source": [
    "# Make a prediction"
   ]
  },
  {
   "cell_type": "code",
   "execution_count": null,
   "id": "shaped-treasurer",
   "metadata": {},
   "outputs": [],
   "source": [
    "prediction=model.predict(x_test)"
   ]
  },
  {
   "cell_type": "markdown",
   "id": "considerable-hospital",
   "metadata": {},
   "source": [
    "### Function which computes subset accuracy"
   ]
  },
  {
   "cell_type": "code",
   "execution_count": null,
   "id": "compliant-british",
   "metadata": {},
   "outputs": [],
   "source": [
    "# Load accuracy_scre library from sklearn.metrics"
   ]
  },
  {
   "cell_type": "code",
   "execution_count": null,
   "id": "prompt-maldives",
   "metadata": {},
   "outputs": [],
   "source": [
    "from sklearn.metrics import accuracy_score"
   ]
  },
  {
   "cell_type": "code",
   "execution_count": null,
   "id": "verbal-literature",
   "metadata": {},
   "outputs": [],
   "source": [
    "score = accuracy_score(y_test, prediction)\n",
    "score"
   ]
  },
  {
   "cell_type": "code",
   "execution_count": null,
   "id": "bulgarian-democracy",
   "metadata": {},
   "outputs": [],
   "source": [
    "# Compute correlation"
   ]
  },
  {
   "cell_type": "code",
   "execution_count": null,
   "id": "answering-subdivision",
   "metadata": {},
   "outputs": [],
   "source": [
    "new_bike.corr()"
   ]
  },
  {
   "cell_type": "code",
   "execution_count": null,
   "id": "joined-springfield",
   "metadata": {},
   "outputs": [],
   "source": [
    "# Make a box plot from DataFrame columns grouped by \"Status_Close\""
   ]
  },
  {
   "cell_type": "code",
   "execution_count": null,
   "id": "occupational-worst",
   "metadata": {},
   "outputs": [],
   "source": [
    "new_bike.boxplot('TIME_dayofweek','STATUS_Close',rot = 30,figsize=(7,9))"
   ]
  },
  {
   "cell_type": "markdown",
   "id": "detailed-assembly",
   "metadata": {},
   "source": [
    "### Linear Regression is a machine learning algorithm based on supervised learning. It performs a regression task."
   ]
  },
  {
   "cell_type": "markdown",
   "id": "generic-greek",
   "metadata": {},
   "source": [
    "# Linear Regression"
   ]
  },
  {
   "cell_type": "code",
   "execution_count": null,
   "id": "solar-optimization",
   "metadata": {},
   "outputs": [],
   "source": [
    "# Load LinearRegression library"
   ]
  },
  {
   "cell_type": "code",
   "execution_count": null,
   "id": "still-eclipse",
   "metadata": {},
   "outputs": [],
   "source": [
    "from sklearn.linear_model import LinearRegression"
   ]
  },
  {
   "cell_type": "markdown",
   "id": "likely-relations",
   "metadata": {},
   "source": [
    "###  Drop column"
   ]
  },
  {
   "cell_type": "code",
   "execution_count": null,
   "id": "genuine-finnish",
   "metadata": {},
   "outputs": [],
   "source": [
    "# Create new dataset without \"AVAILABLE BIKE STANDS\" column, to use identify a columns as axis=1"
   ]
  },
  {
   "cell_type": "code",
   "execution_count": null,
   "id": "particular-reviewer",
   "metadata": {},
   "outputs": [],
   "source": [
    "x=new_bike.drop(['AVAILABLE BIKE STANDS'],axis=1).values\n",
    "y=new_bike['AVAILABLE BIKE STANDS'].values"
   ]
  },
  {
   "cell_type": "code",
   "execution_count": null,
   "id": "lined-adrian",
   "metadata": {},
   "outputs": [],
   "source": [
    "# Display input data"
   ]
  },
  {
   "cell_type": "code",
   "execution_count": null,
   "id": "temporal-victim",
   "metadata": {},
   "outputs": [],
   "source": [
    "print(x)"
   ]
  },
  {
   "cell_type": "code",
   "execution_count": null,
   "id": "renewable-promise",
   "metadata": {},
   "outputs": [],
   "source": [
    "# Display output data"
   ]
  },
  {
   "cell_type": "code",
   "execution_count": null,
   "id": "standing-annual",
   "metadata": {},
   "outputs": [],
   "source": [
    "print(y)"
   ]
  },
  {
   "cell_type": "code",
   "execution_count": null,
   "id": "collaborative-village",
   "metadata": {},
   "outputs": [],
   "source": [
    "# Load train_test_split and give 70% to training data and 30% to testing data"
   ]
  },
  {
   "cell_type": "code",
   "execution_count": null,
   "id": "favorite-interface",
   "metadata": {},
   "outputs": [],
   "source": [
    "from sklearn.model_selection import train_test_split\n",
    "x_train,x_test,y_train,y_test=train_test_split(x,y,test_size=0.3,random_state=0)"
   ]
  },
  {
   "cell_type": "code",
   "execution_count": null,
   "id": "measured-silence",
   "metadata": {},
   "outputs": [],
   "source": [
    "# Load LinearRegression library and create new object called ml"
   ]
  },
  {
   "cell_type": "code",
   "execution_count": null,
   "id": "painful-petite",
   "metadata": {},
   "outputs": [],
   "source": [
    "from sklearn.linear_model import LinearRegression\n",
    "ml=LinearRegression()\n",
    "ml.fit(x_train,y_train)"
   ]
  },
  {
   "cell_type": "code",
   "execution_count": null,
   "id": "large-environment",
   "metadata": {},
   "outputs": [],
   "source": [
    "# Make a prediction"
   ]
  },
  {
   "cell_type": "code",
   "execution_count": null,
   "id": "weird-third",
   "metadata": {},
   "outputs": [],
   "source": [
    "y_pred=ml.predict(x_test)\n",
    "print(y_pred)"
   ]
  },
  {
   "cell_type": "markdown",
   "id": "described-expansion",
   "metadata": {},
   "source": [
    "### Coefficient of determination regression"
   ]
  },
  {
   "cell_type": "code",
   "execution_count": null,
   "id": "ancient-audit",
   "metadata": {},
   "outputs": [],
   "source": [
    "# Load r2_score"
   ]
  },
  {
   "cell_type": "code",
   "execution_count": null,
   "id": "wireless-hartford",
   "metadata": {},
   "outputs": [],
   "source": [
    "from sklearn.metrics import r2_score\n",
    "r2_score(y_test,y_pred)"
   ]
  },
  {
   "cell_type": "code",
   "execution_count": null,
   "id": "fantastic-overview",
   "metadata": {},
   "outputs": [],
   "source": [
    "# Draw a plot "
   ]
  },
  {
   "cell_type": "code",
   "execution_count": null,
   "id": "heated-rebate",
   "metadata": {},
   "outputs": [],
   "source": [
    "plt.figure(figsize=(15,10))\n",
    "plt.scatter(y_test,y_pred)\n",
    "plt.xlabel('Actual')\n",
    "plt.ylabel('Predicted')\n",
    "plt.title('Actual vs. Predicted')"
   ]
  },
  {
   "cell_type": "markdown",
   "id": "sticky-eleven",
   "metadata": {},
   "source": [
    "### Predicted values"
   ]
  },
  {
   "cell_type": "code",
   "execution_count": null,
   "id": "proper-glenn",
   "metadata": {},
   "outputs": [],
   "source": [
    "pred_y_df=pd.DataFrame({'Actual Value':y_test,'Predicted value':y_pred, 'Difference': y_test-y_pred})\n",
    "pred_y_df[0:20]"
   ]
  },
  {
   "cell_type": "markdown",
   "id": "proprietary-magnet",
   "metadata": {},
   "source": [
    "## XGBoost is a decision-tree-based ensemble Machine Learning algorithm that uses a gradient boosting framework"
   ]
  },
  {
   "cell_type": "code",
   "execution_count": null,
   "id": "adult-expert",
   "metadata": {},
   "outputs": [],
   "source": [
    "# Create Xgboost specific DMatrix data format from the numpy array."
   ]
  },
  {
   "cell_type": "code",
   "execution_count": null,
   "id": "electrical-charger",
   "metadata": {},
   "outputs": [],
   "source": [
    "train = xgb.DMatrix(x_train, label=y_train)\n",
    "test = xgb.DMatrix(x_test, label=y_test)"
   ]
  },
  {
   "cell_type": "code",
   "execution_count": null,
   "id": "choice-doctrine",
   "metadata": {},
   "outputs": [],
   "source": [
    "# Set the parameters to get Xgboost working"
   ]
  },
  {
   "cell_type": "code",
   "execution_count": null,
   "id": "perfect-fetish",
   "metadata": {},
   "outputs": [],
   "source": [
    "param = {\n",
    "    'max_depth': 4,\n",
    "    'eta': 0.3,\n",
    "    'objective': 'multi:softmax',\n",
    "    'num_class': 60}\n",
    "epochs = 4"
   ]
  },
  {
   "cell_type": "code",
   "execution_count": null,
   "id": "numerous-warrant",
   "metadata": {},
   "outputs": [],
   "source": [
    "# Train the model"
   ]
  },
  {
   "cell_type": "code",
   "execution_count": null,
   "id": "motivated-august",
   "metadata": {},
   "outputs": [],
   "source": [
    "model = xgb.train(param, train, epochs)"
   ]
  },
  {
   "cell_type": "code",
   "execution_count": null,
   "id": "olive-discipline",
   "metadata": {},
   "outputs": [],
   "source": [
    "# Dump model as a text file "
   ]
  },
  {
   "cell_type": "code",
   "execution_count": null,
   "id": "alien-grocery",
   "metadata": {},
   "outputs": [],
   "source": [
    "model.dump_model('dump.raw.text')"
   ]
  },
  {
   "cell_type": "code",
   "execution_count": null,
   "id": "racial-assistant",
   "metadata": {},
   "outputs": [],
   "source": [
    "# Make a prediction"
   ]
  },
  {
   "cell_type": "code",
   "execution_count": null,
   "id": "functioning-level",
   "metadata": {},
   "outputs": [],
   "source": [
    "predictions = model.predict(test)"
   ]
  },
  {
   "cell_type": "code",
   "execution_count": null,
   "id": "female-liquid",
   "metadata": {},
   "outputs": [],
   "source": [
    "# Display predictions"
   ]
  },
  {
   "cell_type": "code",
   "execution_count": null,
   "id": "coordinated-webster",
   "metadata": {},
   "outputs": [],
   "source": [
    "print(predictions)"
   ]
  },
  {
   "cell_type": "code",
   "execution_count": null,
   "id": "adapted-vietnamese",
   "metadata": {},
   "outputs": [],
   "source": [
    "# Load accuracy_score and compute it"
   ]
  },
  {
   "cell_type": "code",
   "execution_count": null,
   "id": "north-strength",
   "metadata": {},
   "outputs": [],
   "source": [
    "from sklearn.metrics import accuracy_score\n",
    "accuracy_score(y_test, predictions)"
   ]
  },
  {
   "cell_type": "code",
   "execution_count": null,
   "id": "printable-flavor",
   "metadata": {},
   "outputs": [],
   "source": [
    "# xgb.plot_tree(bst, num_trees=2)"
   ]
  },
  {
   "cell_type": "code",
   "execution_count": null,
   "id": "advised-walter",
   "metadata": {},
   "outputs": [],
   "source": []
  },
  {
   "cell_type": "markdown",
   "id": "exciting-masters",
   "metadata": {},
   "source": [
    "## Logistic Regression is a ML classification algorithm that is used to predict the probability of a categorical dependent variable. "
   ]
  },
  {
   "cell_type": "code",
   "execution_count": null,
   "id": "joint-massachusetts",
   "metadata": {},
   "outputs": [],
   "source": [
    "# Load LogisticRegression from the sklearn library and import confusion_matrix which is used for evaluating the performance of a classification model."
   ]
  },
  {
   "cell_type": "code",
   "execution_count": null,
   "id": "mature-virus",
   "metadata": {},
   "outputs": [],
   "source": [
    "from sklearn.linear_model import LogisticRegression\n",
    "from sklearn.metrics import confusion_matrix\n",
    "log_model = LogisticRegression(solver='lbfgs', max_iter=5000)"
   ]
  },
  {
   "cell_type": "code",
   "execution_count": null,
   "id": "heard-silence",
   "metadata": {},
   "outputs": [],
   "source": [
    "# Create a Logistic Regression Object, perform Logistic Regression"
   ]
  },
  {
   "cell_type": "code",
   "execution_count": null,
   "id": "early-reference",
   "metadata": {},
   "outputs": [],
   "source": [
    "log_reg = LogisticRegression()\n",
    "log_reg.fit(x_train, y_train)"
   ]
  },
  {
   "cell_type": "code",
   "execution_count": null,
   "id": "rational-neutral",
   "metadata": {},
   "outputs": [],
   "source": [
    "# perform prediction using the test dataset\n",
    "y_pred = log_reg.predict(x_test)"
   ]
  },
  {
   "cell_type": "code",
   "execution_count": null,
   "id": "sharing-renewal",
   "metadata": {},
   "outputs": [],
   "source": [
    "# Display the Confusion Matrix"
   ]
  },
  {
   "cell_type": "code",
   "execution_count": null,
   "id": "increased-switch",
   "metadata": {},
   "outputs": [],
   "source": [
    "confusion_matrix(y_test, y_pred)"
   ]
  },
  {
   "cell_type": "code",
   "execution_count": null,
   "id": "devoted-camcorder",
   "metadata": {},
   "outputs": [],
   "source": [
    "print(x)\n"
   ]
  },
  {
   "cell_type": "code",
   "execution_count": null,
   "id": "right-stupid",
   "metadata": {},
   "outputs": [],
   "source": [
    "print(y)"
   ]
  },
  {
   "cell_type": "code",
   "execution_count": null,
   "id": "complete-minnesota",
   "metadata": {},
   "outputs": [],
   "source": [
    "# plt.scatter(x_train, y_train, c=y, cmap='rainbow')\n",
    "# plt.title('Scatter Plot of Logistic Regression')\n",
    "# x_train[:,0]\n",
    "# plt.show()"
   ]
  },
  {
   "cell_type": "markdown",
   "id": "peaceful-trouble",
   "metadata": {},
   "source": [
    "## Conclusion\n",
    "\n",
    "Dublin Bikes also has a Real Time API which means it is possible to download data which should be updated in real time and therefore have data up to date.\n",
    "I believe that if cycling was extended to other cities an analysis could be made of the larger cities in Ireland and cycling usage could be compared to Dublin. \n"
   ]
  },
  {
   "cell_type": "markdown",
   "id": "standard-condition",
   "metadata": {},
   "source": [
    "## References:\n",
    "\n",
    "https://www.geeksforgeeks.org/how-to-count-the-number-of-nan-values-in-pandas/\n",
    "https://www.youtube.com/watch?v=57vFbsiZYHg \n",
    "https://nbviewer.jupyter.org/github/Tanu-N-Prabhu/Python/blob/master/Data_Cleaning/Data_Cleaning_using_Python_with_Pandas_Library.ipynb\n",
    "https://scikit-learn.org/stable/modules/generated/sklearn.preprocessing.OneHotEncoder.html\n",
    "https://scikit-learn.org/stable/modules/generated/sklearn.metrics.accuracy_score.html\n",
    "https://data.smartdublin.ie/dataset/dublinbikes-api\n",
    "https://www.kaggle.com/austinreese/craigslist-carstrucks-data\n",
    "https://stackoverflow.com/questions/62658215/convergencewarning-lbfgs-failed-to-converge-status-1-stop-total-no-of-iter\n",
    "https://www.askpython.com/python/examples/python-predict-function\n",
    "https://www.w3cschool.cn/doc_scikit_learn/scikit_learn-modules-generated-sklearn-metrics-accuracy_score.html\n",
    "https://pandas.pydata.org/docs/reference/api/pandas.DataFrame.boxplot.html\n",
    "https://www.geeksforgeeks.org/ml-linear-regression/\n",
    "https://www.kdnuggets.com/2017/03/simple-xgboost-tutorial-iris-dataset.html\n",
    "https://towardsdatascience.com/building-a-logistic-regression-in-python-step-by-step-becd4d56c9c8\n",
    "https://www.analyticsvidhya.com/blog/2020/04/confusion-matrix-machine-learning/\n",
    "https://en.wikipedia.org/wiki/Machine_learning\n",
    "http://scholar.google.com/scholar_url?url=https://www.researchgate.net/profile/Randeep_Kaur12/post/latest_research_which_should_be_chosen_in_machine_learning/attachment/5bb64a68cfe4a76455f83a27/AS%253A678058935717889%25401538673256296/download/machine%2Blearning%2Balgorithms.pdf&hl=pl&sa=X&ei=4kZ7YPfxNcXTsQK64KuAAg&scisig=AAGBfm0t2zr4xu3z_qp9AUasL00oeQTpNw&nossl=1&oi=scholarr\n"
   ]
  },
  {
   "cell_type": "code",
   "execution_count": null,
   "id": "proud-employee",
   "metadata": {},
   "outputs": [],
   "source": []
  }
 ],
 "metadata": {
  "kernelspec": {
   "display_name": "Python 3",
   "language": "python",
   "name": "python3"
  },
  "language_info": {
   "codemirror_mode": {
    "name": "ipython",
    "version": 3
   },
   "file_extension": ".py",
   "mimetype": "text/x-python",
   "name": "python",
   "nbconvert_exporter": "python",
   "pygments_lexer": "ipython3",
   "version": "3.9.4"
  }
 },
 "nbformat": 4,
 "nbformat_minor": 5
}
